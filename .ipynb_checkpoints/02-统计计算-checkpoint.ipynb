{
 "cells": [
  {
   "cell_type": "markdown",
   "metadata": {},
   "source": [
    "# 统计计算"
   ]
  },
  {
   "cell_type": "markdown",
   "metadata": {},
   "source": [
    "## 分布"
   ]
  },
  {
   "cell_type": "markdown",
   "metadata": {},
   "source": [
    "一组值及每个值对应的出现概率，例如六面骰子的1~6，及每个点数对应的概率均为1/6，这称为分布；"
   ]
  },
  {
   "cell_type": "code",
   "execution_count": 4,
   "metadata": {
    "ExecuteTime": {
     "end_time": "2020-03-30T07:47:52.678033Z",
     "start_time": "2020-03-30T07:47:52.654504Z"
    }
   },
   "outputs": [
    {
     "name": "stdout",
     "output_type": "stream",
     "text": [
      "0.4 0.4 0.2\n",
      "0.4 0.4 0.2\n",
      "0.4 0.4 0.2\n"
     ]
    }
   ],
   "source": [
    "# Pmf - 概率质量函数，用于实现分布概率计算的类\n",
    "\n",
    "from code.thinkbayes import Pmf\n",
    "\n",
    "# 用法1，通过Set设置值与其对应的分布概率\n",
    "pmf = Pmf()\n",
    "pmf.Set('A',0.4)\n",
    "pmf.Set('B',0.4)\n",
    "pmf.Set('C',0.2)\n",
    "print pmf.Prob('A'),pmf.Prob('B'),pmf.Prob('C')\n",
    "\n",
    "# 用法2，通过Set设置值与其对应的分布概率，但是使用Normalize做和为1的归一处理\n",
    "pmf = Pmf()\n",
    "pmf.Set('A',0.8)\n",
    "pmf.Set('B',0.8)\n",
    "pmf.Set('C',0.4)\n",
    "pmf.Normalize()\n",
    "print pmf.Prob('A'),pmf.Prob('B'),pmf.Prob('C')\n",
    "\n",
    "# 用法3，通过Incr添加各个值的出现次数，通过Normalize做归一\n",
    "pmf = Pmf()\n",
    "for val in ['A','B','C','B','A']:\n",
    "    pmf.Incr(val, 1)\n",
    "pmf.Normalize()\n",
    "print pmf.Prob('A'),pmf.Prob('B'),pmf.Prob('C')"
   ]
  },
  {
   "cell_type": "markdown",
   "metadata": {},
   "source": [
    "## 曲奇饼问题 - Pmf解决"
   ]
  },
  {
   "cell_type": "markdown",
   "metadata": {},
   "source": [
    "问题：有两个碗，碗1中有30个香草曲奇，10个巧克力曲奇，碗2中各有20个，问随便拿一个曲奇，从碗1取到香草的概率是多少？\n",
    "\n",
    "1. (p(H))拿一个曲奇前：添加两个可能假设，概率均设置为0.5，即取到某个碗概率均为0.5，这部分称之为先验分布；\n",
    "2. (p(H)\\*p(D|H))拿一个曲奇后：基于新数据更新分布，即先验分别乘以对应的似然度；\n",
    "3. (p(H|D))做归一处理；\n",
    "4. 得到每个假设下对应的概率；\n",
    "\n",
    "其实整个过程跟第一章中表格方式解法过程是一致的；"
   ]
  },
  {
   "cell_type": "code",
   "execution_count": 5,
   "metadata": {
    "ExecuteTime": {
     "end_time": "2020-03-30T07:54:25.495530Z",
     "start_time": "2020-03-30T07:54:25.471613Z"
    }
   },
   "outputs": [
    {
     "data": {
      "text/plain": [
       "0.6000000000000001"
      ]
     },
     "execution_count": 5,
     "metadata": {},
     "output_type": "execute_result"
    }
   ],
   "source": [
    "# 假设1：碗1，假设2：碗2\n",
    "from code.thinkbayes import Pmf\n",
    "pmf = Pmf() # 创建概率质量函数对象\n",
    "pmf.Set('Bowl 1',0.5) # 创建假设1，先验概率为0.5=1/2\n",
    "pmf.Set('Bowl 2',0.5) # 创建假设2，先验概率为0.5=1/2\n",
    "pmf.Mult('Bowl 1',0.75) # 假设1乘以似然度0.75=30/40\n",
    "pmf.Mult('Bowl 2',0.5) # 假设1乘以似然度0.5=20/40\n",
    "pmf.Normalize()\n",
    "pmf.Prob('Bowl 1')"
   ]
  },
  {
   "cell_type": "markdown",
   "metadata": {},
   "source": [
    "## M&M问题 - Pmf解决"
   ]
  },
  {
   "cell_type": "markdown",
   "metadata": {},
   "source": [
    "问题：有两袋M&M豆，94袋中30%褐色，20%黄色，20%红色，10%绿色，10%橙色，10%黄褐色，96袋中24%蓝色，20%绿色，16%橙色，14%黄色，13%红色，13%褐色，从两袋中各取一个豆，一个是黄色，一个是绿色，问黄色豆来自94年的袋子的概率是多少？\n",
    "\n",
    "1. 先验分布：假设1（黄豆来自94袋，绿豆来自96袋），假设2（黄豆来自96袋，绿豆来自94袋），均为0.5；\n",
    "2. 乘以似然度：假设1（0.2\\*0.2），假设2（0.14\\*0.1）；\n",
    "3. 归一化；"
   ]
  },
  {
   "cell_type": "code",
   "execution_count": 6,
   "metadata": {
    "ExecuteTime": {
     "end_time": "2020-03-30T07:57:30.909958Z",
     "start_time": "2020-03-30T07:57:30.862912Z"
    }
   },
   "outputs": [
    {
     "data": {
      "text/plain": [
       "0.7407407407407408"
      ]
     },
     "execution_count": 6,
     "metadata": {},
     "output_type": "execute_result"
    }
   ],
   "source": [
    "# 可能1：黄色来自94，绿色来自96，可能2：黄色来自96，绿色来自94\n",
    "from code.thinkbayes import Pmf\n",
    "pmf = Pmf() # 创建概率质量函数对象\n",
    "pmf.Set('94,96',0.5) # 创建可能1，先验概率为0.5\n",
    "pmf.Set('96,94',0.5) # 创建可能2，先验概率为0.5\n",
    "pmf.Mult('94,96',0.2*0.2) # 可能1乘以似然度\n",
    "pmf.Mult('96,94',0.14*0.1) # 可能1乘以似然度\n",
    "pmf.Normalize()\n",
    "pmf.Prob('94,96')"
   ]
  },
  {
   "cell_type": "markdown",
   "metadata": {},
   "source": [
    "## Monty Hall问题 - Pmf解决"
   ]
  },
  {
   "cell_type": "markdown",
   "metadata": {},
   "source": [
    "Monty大厅问题：三扇门，其中一扇后有奖品，你随便挑选一扇，然后会展示剩下两扇中一扇没有奖品的门，然后你再做出选择，是保持原来的选择，还是从新选择另一扇没被打开的门；\n",
    "\n",
    "0. 背景：选手选了A，Monty打开了B的情况下；\n",
    "1. 先验分布：假设1（奖品在A），假设2（奖品在B），假设3（奖品在C），均为1/3；\n",
    "2. 乘以似然度：假设1（奖品在A时，Monty可以随机打开B或者C，因此是1/2），假设2（当奖品在B，Monty不能打开B，所以是0），假设3（当奖品在C，Monty只能打开B，因为我选了A，因此是1）"
   ]
  },
  {
   "cell_type": "code",
   "execution_count": 9,
   "metadata": {
    "ExecuteTime": {
     "end_time": "2020-03-30T08:05:06.018918Z",
     "start_time": "2020-03-30T08:05:06.007315Z"
    }
   },
   "outputs": [
    {
     "name": "stdout",
     "output_type": "stream",
     "text": [
      "坚持选A： 0.333333333333\n",
      "改变选C： 0.666666666667\n"
     ]
    }
   ],
   "source": [
    "# 选手选A，Monty打开门B且奖品不在B\n",
    "# 可能1：奖品在A，可能2：奖品在B，可能3：奖品在C\n",
    "from code.thinkbayes import Pmf\n",
    "pmf = Pmf()\n",
    "pmf.Set('A',1./3)\n",
    "pmf.Set('B',1./3)\n",
    "pmf.Set('C',1./3)\n",
    "pmf.Mult('A',1./2)\n",
    "pmf.Mult('B',0)\n",
    "pmf.Mult('C',1)\n",
    "pmf.Normalize()\n",
    "print '坚持选A：', pmf.Prob('A')\n",
    "print '改变选C：', pmf.Prob('C') # 即选手改变自己的选择(由于B是被Monty打开的，因此选手只能改为C)的话中奖的概率"
   ]
  },
  {
   "cell_type": "markdown",
   "metadata": {},
   "source": [
    "## 贝叶斯框架 -- 曲奇饼问题"
   ]
  },
  {
   "cell_type": "markdown",
   "metadata": {},
   "source": [
    "该框架的好处：\n",
    "1. 很多问题可以改改就通用了，后面会看到；\n",
    "2. 能够推广到拿多个饼，各个口味的概率；"
   ]
  },
  {
   "cell_type": "markdown",
   "metadata": {},
   "source": [
    "### 构建Cookie类，基于Pmf类"
   ]
  },
  {
   "cell_type": "code",
   "execution_count": 16,
   "metadata": {
    "ExecuteTime": {
     "end_time": "2020-03-30T08:38:35.806296Z",
     "start_time": "2020-03-30T08:38:35.720711Z"
    }
   },
   "outputs": [],
   "source": [
    "class Cookie(Pmf):\n",
    "    mixes = {\n",
    "        'Bowl 1':dict(vanilla=0.75, chocolate=0.25),\n",
    "        'Bowl 2':dict(vanilla=0.5, chocolate=0.5),\n",
    "    }\n",
    "    \n",
    "    def __init__(self, hypos):\n",
    "        '''\n",
    "        Cookie类构造函数\n",
    "        \n",
    "        Args:\n",
    "            hypos -- 全部假设\n",
    "        '''\n",
    "        Pmf.__init__(self)\n",
    "        for hypo in hypos:\n",
    "            self.Set(hypo, 1)\n",
    "        self.Normalize()\n",
    "        \n",
    "    def Likelihood(self, data, hypo):\n",
    "        '''\n",
    "        根据传入data（此处是口味）求似然度\n",
    "        \n",
    "        Args:\n",
    "            data -- 传入的信息，此处是口味\n",
    "            hypo -- 某一种假设\n",
    "            \n",
    "        Returns:\n",
    "            like -- 更新后的概率\n",
    "        '''\n",
    "        mix = self.mixes[hypo]\n",
    "        like = mix[data]\n",
    "        return like\n",
    "        \n",
    "    def Update(self, data):\n",
    "        '''\n",
    "        简单说，Update就是在更新新数据\n",
    "        \n",
    "        修正相应假设的概率\n",
    "        \n",
    "        Args:\n",
    "            data -- 用于修正响应假设概率的信息，此处就是饼干口味\n",
    "        '''\n",
    "        for hypo in self.Values():\n",
    "            like = self.Likelihood(data, hypo)\n",
    "            self.Mult(hypo, like)\n",
    "        self.Normalize()\n",
    "        \n",
    "    def PrintPredict(self):\n",
    "        '''\n",
    "        打印各个假设及其对应的概率\n",
    "        '''\n",
    "        for hypo, prob in self.Items():\n",
    "            print hypo + ':' + str(prob)\n",
    "        "
   ]
  },
  {
   "cell_type": "markdown",
   "metadata": {},
   "source": [
    "### 测试Cookie类"
   ]
  },
  {
   "cell_type": "markdown",
   "metadata": {},
   "source": [
    "#### 原始概率 -- 即先验概率，构造中定义了都是1\n",
    "\n",
    "即没有任何新数据情况下各个假设的概率分布；"
   ]
  },
  {
   "cell_type": "code",
   "execution_count": 13,
   "metadata": {
    "ExecuteTime": {
     "end_time": "2020-03-30T08:37:51.764718Z",
     "start_time": "2020-03-30T08:37:51.753781Z"
    }
   },
   "outputs": [
    {
     "name": "stdout",
     "output_type": "stream",
     "text": [
      "Bowl 2:0.5\n",
      "Bowl 1:0.5\n"
     ]
    }
   ],
   "source": [
    "cookie = Cookie(['Bowl 1', 'Bowl 2'])\n",
    "cookie.PrintPredict()"
   ]
  },
  {
   "cell_type": "markdown",
   "metadata": {},
   "source": [
    "#### 更新一个香草信息\n",
    "\n",
    "此时与原题是一致的，两个碗，第一次取出一个香草饼干，从每个碗中取出的概率分别为多少？"
   ]
  },
  {
   "cell_type": "code",
   "execution_count": 14,
   "metadata": {
    "ExecuteTime": {
     "end_time": "2020-03-30T08:37:52.829580Z",
     "start_time": "2020-03-30T08:37:52.817246Z"
    }
   },
   "outputs": [
    {
     "name": "stdout",
     "output_type": "stream",
     "text": [
      "Bowl 2:0.4\n",
      "Bowl 1:0.6\n"
     ]
    }
   ],
   "source": [
    "cookie.Update('vanilla')\n",
    "cookie.PrintPredict()"
   ]
  },
  {
   "cell_type": "markdown",
   "metadata": {},
   "source": [
    "#### 更新一个巧克力\n",
    "\n",
    "在原基础上，又取出一个巧克力饼干，两次都来自与某个碗的概率分别是多少？"
   ]
  },
  {
   "cell_type": "code",
   "execution_count": 15,
   "metadata": {
    "ExecuteTime": {
     "end_time": "2020-03-30T08:37:54.338927Z",
     "start_time": "2020-03-30T08:37:54.328113Z"
    }
   },
   "outputs": [
    {
     "name": "stdout",
     "output_type": "stream",
     "text": [
      "Bowl 2:0.571428571429\n",
      "Bowl 1:0.428571428571\n"
     ]
    }
   ],
   "source": [
    "cookie.Update('chocolate')\n",
    "cookie.PrintPredict()"
   ]
  },
  {
   "cell_type": "markdown",
   "metadata": {},
   "source": [
    "## 贝叶斯框架 -- Monty Hall问题"
   ]
  },
  {
   "cell_type": "markdown",
   "metadata": {},
   "source": [
    "### 构建MontyHall类，继承自Pmf类"
   ]
  },
  {
   "cell_type": "code",
   "execution_count": 17,
   "metadata": {
    "ExecuteTime": {
     "end_time": "2020-03-30T08:39:46.088442Z",
     "start_time": "2020-03-30T08:39:46.024933Z"
    }
   },
   "outputs": [],
   "source": [
    "class MontyHall(Pmf):\n",
    "    '''\n",
    "    假设用户最开始选的是门A\n",
    "    '''\n",
    "    \n",
    "    choose = 'A'\n",
    "    \n",
    "    def __init__(self, hypos):\n",
    "        '''\n",
    "        MontyHall类构造函数\n",
    "        \n",
    "        Args:\n",
    "            hypos -- 全部假设\n",
    "        '''\n",
    "        Pmf.__init__(self)\n",
    "        for hypo in hypos:\n",
    "            self.Set(hypo, 1)\n",
    "        self.Normalize()\n",
    "        \n",
    "    def Likelihood(self, data, hypo):\n",
    "        '''\n",
    "        根据传入data（此处是主持人去掉某个门）求似然度\n",
    "        \n",
    "        Args:\n",
    "            data -- 传入的信息，此处是去掉的某扇门\n",
    "            hypo -- 某一种假设\n",
    "            \n",
    "        Returns:\n",
    "            like -- 更新后的概率\n",
    "        '''\n",
    "        return 0 if data == hypo else (0.5 if hypo == self.choose else 1) # 这种写法无法扩展都其他数量的门的问题上\n",
    "        \n",
    "    def Update(self, data):\n",
    "        '''\n",
    "        修正相应假设的概率，这个方法是叠加的\n",
    "        \n",
    "        Args:\n",
    "            data -- 用于修正响应假设概率的信息，此处就是某扇门\n",
    "        '''\n",
    "        for hypo in self.Values():\n",
    "            like = self.Likelihood(data, hypo)\n",
    "            self.Mult(hypo, like)\n",
    "        self.Normalize()\n",
    "        \n",
    "    def PrintPredict(self):\n",
    "        '''\n",
    "        打印各个假设及其对应的概率\n",
    "        '''\n",
    "        for hypo, prob in self.Items():\n",
    "            print hypo + ':' + str(prob)\n",
    "        "
   ]
  },
  {
   "cell_type": "markdown",
   "metadata": {},
   "source": [
    "### 测试MontyHall类"
   ]
  },
  {
   "cell_type": "markdown",
   "metadata": {},
   "source": [
    "#### 原始概率\n",
    "\n",
    "默认中奖概率均为1/3；"
   ]
  },
  {
   "cell_type": "code",
   "execution_count": 18,
   "metadata": {
    "ExecuteTime": {
     "end_time": "2020-03-30T08:40:15.123425Z",
     "start_time": "2020-03-30T08:40:15.118463Z"
    }
   },
   "outputs": [
    {
     "name": "stdout",
     "output_type": "stream",
     "text": [
      "A:0.333333333333\n",
      "C:0.333333333333\n",
      "B:0.333333333333\n"
     ]
    }
   ],
   "source": [
    "montyhall = MontyHall(['A', 'B', 'C'])\n",
    "montyhall.PrintPredict()"
   ]
  },
  {
   "cell_type": "markdown",
   "metadata": {},
   "source": [
    "#### 加入主持人信息\n",
    "\n",
    "将新数据“主持人打开了门B”更新上去，其实就是计算似然度的过程，看到更新后，奖品在A概率为1/3，而奖品在C概率为2/3；"
   ]
  },
  {
   "cell_type": "code",
   "execution_count": 19,
   "metadata": {
    "ExecuteTime": {
     "end_time": "2020-03-30T08:41:22.607095Z",
     "start_time": "2020-03-30T08:41:22.592840Z"
    }
   },
   "outputs": [
    {
     "name": "stdout",
     "output_type": "stream",
     "text": [
      "A:0.333333333333\n",
      "C:0.666666666667\n",
      "B:0.0\n"
     ]
    }
   ],
   "source": [
    "montyhall.Update('B')\n",
    "montyhall.PrintPredict()"
   ]
  },
  {
   "cell_type": "code",
   "execution_count": 20,
   "metadata": {
    "ExecuteTime": {
     "end_time": "2020-03-30T08:42:42.276890Z",
     "start_time": "2020-03-30T08:42:42.270390Z"
    }
   },
   "outputs": [],
   "source": [
    "# 这里与实际问题有些不合理的冲突，3个门是不可能开两次的，不然就不需要猜了\n",
    "#montyhall.Update('C')\n",
    "#montyhall.PrintPredict()"
   ]
  },
  {
   "cell_type": "markdown",
   "metadata": {},
   "source": [
    "## 框架抽象封装"
   ]
  },
  {
   "cell_type": "markdown",
   "metadata": {},
   "source": [
    "### Suite框架抽象 -- 只需实现Likelihood方法即可使用"
   ]
  },
  {
   "cell_type": "code",
   "execution_count": 21,
   "metadata": {
    "ExecuteTime": {
     "end_time": "2020-03-30T08:45:54.881263Z",
     "start_time": "2020-03-30T08:45:54.854302Z"
    }
   },
   "outputs": [],
   "source": [
    "from abc import ABCMeta, abstractmethod\n",
    "class Suite(Pmf): # 抽象类\n",
    "    \n",
    "    __metaclass__ = ABCMeta\n",
    "    \n",
    "    def __init__(self, hypos):\n",
    "        '''\n",
    "        构造函数\n",
    "        \n",
    "        Args:\n",
    "            hypos -- 全部假设\n",
    "        '''\n",
    "        Pmf.__init__(self)\n",
    "        for hypo in hypos:\n",
    "            self.Set(hypo, 1) # 假设了每个假设的先验都相等，感觉用Incr更灵活一些\n",
    "        self.Normalize()\n",
    "    \n",
    "    @abstractmethod  ##抽象方法\n",
    "    def Likelihood(self, data, hypo):\n",
    "        '''\n",
    "        根据传入data求似然度\n",
    "        \n",
    "        Args:\n",
    "            data -- 传入的信息\n",
    "            hypo -- 某一种假设\n",
    "            \n",
    "        Returns:\n",
    "            like -- 更新后的概率\n",
    "        '''\n",
    "        \n",
    "    def Update(self, data):\n",
    "        '''\n",
    "        修正相应假设的概率，这个方法是叠加的\n",
    "        \n",
    "        Args:\n",
    "            data -- 用于修正响应假设概率的信息\n",
    "        '''\n",
    "        for hypo in self.Values():\n",
    "            like = self.Likelihood(data, hypo)\n",
    "            self.Mult(hypo, like)\n",
    "        self.Normalize()\n",
    "        \n",
    "    def PrintPredict(self):\n",
    "        '''\n",
    "        打印各个假设及其对应的概率\n",
    "        '''\n",
    "        for hypo, prob in self.Items():\n",
    "            print hypo + ':' + str(prob)\n",
    "        "
   ]
  },
  {
   "cell_type": "markdown",
   "metadata": {},
   "source": [
    "### Monty问题在Suite框架中使用"
   ]
  },
  {
   "cell_type": "code",
   "execution_count": 22,
   "metadata": {
    "ExecuteTime": {
     "end_time": "2020-03-30T08:46:04.765604Z",
     "start_time": "2020-03-30T08:46:04.747679Z"
    }
   },
   "outputs": [
    {
     "name": "stdout",
     "output_type": "stream",
     "text": [
      "A:0.333333333333\n",
      "C:0.666666666667\n",
      "B:0.0\n",
      "A:0.0\n",
      "C:0.5\n",
      "B:0.5\n",
      "A:0.333333333333\n",
      "C:0.0\n",
      "B:0.666666666667\n"
     ]
    }
   ],
   "source": [
    "class Monty(Suite):\n",
    "    def Likelihood(self, data, hypo):\n",
    "        return 0 if data == hypo else (0.5 if hypo == 'A' else 1) # 这写法是假设玩家选了A的情况下\n",
    "\n",
    "monty = Monty('ABC')\n",
    "monty.Update('B')\n",
    "monty.PrintPredict()\n",
    "\n",
    "monty = Monty('ABC')\n",
    "monty.Update('A')\n",
    "monty.PrintPredict()\n",
    "\n",
    "monty = Monty('ABC')\n",
    "monty.Update('C')\n",
    "monty.PrintPredict()"
   ]
  },
  {
   "cell_type": "markdown",
   "metadata": {},
   "source": [
    "### M&M豆问题在Suite框架中使用"
   ]
  },
  {
   "cell_type": "markdown",
   "metadata": {},
   "source": [
    "#### 自己实现"
   ]
  },
  {
   "cell_type": "code",
   "execution_count": 26,
   "metadata": {
    "ExecuteTime": {
     "end_time": "2020-03-30T08:51:44.395983Z",
     "start_time": "2020-03-30T08:51:44.362568Z"
    }
   },
   "outputs": [
    {
     "name": "stdout",
     "output_type": "stream",
     "text": [
      "96,94:0.259259259259\n",
      "94,96:0.740740740741\n"
     ]
    }
   ],
   "source": [
    "class M_M(Suite):\n",
    "    '''\n",
    "    94袋中30%褐色，20%黄色，20%红色，10%绿色，10%橙色，10%黄褐色\n",
    "    96袋中24%蓝色，20%绿色，16%橙色，14%黄色，13%红色，13%褐色\n",
    "    从两袋中各取一个豆，一个是黄色，一个是绿色，问黄色豆来自94年的袋子的概率是多少？\n",
    "    '''\n",
    "    \n",
    "    mixes = {\n",
    "        '94':dict(hese=0.3,huangse=0.2,hongse=0.2,lvse=0.1,chengse=0.1,huanghese=0.1),\n",
    "        '96':dict(hese=0.13,huangse=0.14,hongse=0.13,lvse=0.2,chengse=0.16,lanse=0.24),\n",
    "    }\n",
    "    \n",
    "    def Likelihood(self, data, hypo):\n",
    "        bags = hypo.split(',')\n",
    "        like = 1\n",
    "        for i in range(len(data)):\n",
    "            like *= self.mixes[bags[i]][data[i]]\n",
    "        return like\n",
    "\n",
    "m_m = M_M(['94,96','96,94'])\n",
    "m_m.Update(['huangse', 'lvse'])\n",
    "m_m.PrintPredict()\n",
    "    \n",
    "# m_m = M_M(['94,96,94','96,94,96'])\n",
    "# m_m.Update(['huangse', 'lvse', 'chengse'])\n",
    "# m_m.PrintPredict()"
   ]
  },
  {
   "cell_type": "markdown",
   "metadata": {},
   "source": [
    "#### 书上实现"
   ]
  },
  {
   "cell_type": "code",
   "execution_count": 25,
   "metadata": {
    "ExecuteTime": {
     "end_time": "2020-03-30T08:50:19.698665Z",
     "start_time": "2020-03-30T08:50:19.686347Z"
    }
   },
   "outputs": [
    {
     "name": "stdout",
     "output_type": "stream",
     "text": [
      "A:0.740740740741\n",
      "B:0.259259259259\n"
     ]
    }
   ],
   "source": [
    "class M_M_B(Suite):\n",
    "    mix94 = dict(hese=0.3,huangse=0.2,hongse=0.2,lvse=0.1,chengse=0.1,huanghese=0.1)\n",
    "    mix96 = dict(hese=0.13,huangse=0.14,hongse=0.13,lvse=0.2,chengse=0.16,lanse=0.24)\n",
    "    \n",
    "    hypo1 = dict(bag1=mix94, bag2=mix96)\n",
    "    hypo2 = dict(bag1=mix96, bag2=mix94)\n",
    "    \n",
    "    hypotheses = dict(A=hypo1, B=hypo2)\n",
    "    \n",
    "    def Likelihood(self, data, hypo):\n",
    "        bag, color = data\n",
    "        return self.hypotheses[hypo][bag][color]\n",
    "        \n",
    "m_m_b = M_M_B('AB')\n",
    "m_m_b.Update(('bag1', 'huangse'))\n",
    "m_m_b.Update(('bag2', 'lvse'))\n",
    "m_m_b.PrintPredict()"
   ]
  },
  {
   "cell_type": "markdown",
   "metadata": {},
   "source": [
    "PS：跟书本上的处理方法不太一致：\n",
    "* 书本上：\n",
    "    * 假设是A，B，也就是黄色豆来自94，或者95；\n",
    "    * Update每次接受一组信息，包括第几次拿，以及颜色，比如('bag1', 'yellow')，表示第一次拿的黄色豆；\n",
    "* 自己实现：\n",
    "    * 假设是\"94,96\"和\"96,94\"；\n",
    "    * Update是对应假设的一个集合，此处长度必须为2，对应\"xx,yy\"，['yellow','green']表示第一次拿黄色的，第二次是绿色；\n",
    "    \n",
    "区别：\n",
    "* 书本上的实现方式允许无数次的迭代下去，可以拓展至任意次数的取豆子，并计算概率，自己实现的这个目前只支持与假设时放入的数量一致的信息个数，比如假设了\"94,94\"，那么Update只能提供[xx,yy]这种格式，否则报错\n",
    "* 如果想要增加假设数量（比如拿了三次的话），书本上的虽然Update更简单，但是需要改动代码（因为它假设是写死在代码中的），而自己的写法是可以通过构造函数来修改的；\n",
    "\n",
    "总体看自己实现的这个调用复杂，但是支持更多情况（比如想计算取3次，分别为黄色，绿色，橙色时的概率），而书本上的调用简单清晰，但是如果要支持取3次，且增加假设个数的话就需要修改类代码；"
   ]
  },
  {
   "cell_type": "markdown",
   "metadata": {},
   "source": [
    "## 练习 -- 曲奇饼加强版"
   ]
  },
  {
   "cell_type": "markdown",
   "metadata": {},
   "source": [
    "问题：有两个碗，碗1中有30个香草曲奇，10个巧克力曲奇，碗2中各有20个，问随便拿一个曲奇，从碗1取到香草的概率是多少？\n",
    "\n",
    "增加：吃掉了取出的饼干，那么似然度就依赖于之前的取曲奇饼的行为；"
   ]
  },
  {
   "cell_type": "markdown",
   "metadata": {},
   "source": [
    "### 普通曲奇饼问题Suite解决"
   ]
  },
  {
   "cell_type": "code",
   "execution_count": 81,
   "metadata": {},
   "outputs": [
    {
     "name": "stdout",
     "output_type": "stream",
     "text": [
      "Bowl1:0.529411764706\n",
      "Bowl2:0.470588235294\n"
     ]
    }
   ],
   "source": [
    "class Cookie(Suite):\n",
    "    mixes={\n",
    "        'Bowl1':dict(vanilla=0.75, chocolate=0.25),\n",
    "        'Bowl2':dict(vanilla=0.5, chocolate=0.5),\n",
    "    }\n",
    "    \n",
    "    def Likelihood(self, data, hypo):\n",
    "        return self.mixes[hypo][data]\n",
    "        \n",
    "cookie = Cookie(['Bowl1','Bowl2'])\n",
    "cookie.Update('vanilla')\n",
    "cookie.Update('chocolate')\n",
    "cookie.Update('vanilla')\n",
    "cookie.PrintPredict()"
   ]
  },
  {
   "cell_type": "markdown",
   "metadata": {},
   "source": [
    "### 超级曲奇饼问题Suite解决 -- 拿出去的饼不放回"
   ]
  },
  {
   "cell_type": "code",
   "execution_count": 93,
   "metadata": {},
   "outputs": [
    {
     "name": "stdout",
     "output_type": "stream",
     "text": [
      "30.0 10.0\n",
      "20.0 20.0\n",
      "29.0 10.0\n",
      "19.0 20.0\n",
      "29.0 9.0\n",
      "19.0 19.0\n",
      "Bowl1:0.533742331288\n",
      "Bowl2:0.466257668712\n"
     ]
    }
   ],
   "source": [
    "class SuperCookie(Suite):\n",
    "    class Bowl:\n",
    "        def __init__(self, vanilla=20, chocolate=20):\n",
    "            self.vanilla=vanilla*1.\n",
    "            self.chocolate=chocolate*1.\n",
    "\n",
    "        def eat(self, cookie_name):\n",
    "            if 'vanilla' == cookie_name:\n",
    "                self.vanilla -= 1\n",
    "            elif 'chocolate' == cookie_name:\n",
    "                self.chocolate -= 1\n",
    "\n",
    "        def check(self):\n",
    "            return self.vanilla, self.chocolate\n",
    "    \n",
    "    hypo1 = dict(Bowl1=Bowl(30,10),Bowl2=Bowl(20,20))\n",
    "    hypo2 = dict(Bowl1=Bowl(30,10),Bowl2=Bowl(20,20))\n",
    "    hypotheses = dict(Bowl1=hypo1, Bowl2=hypo2)\n",
    "    \n",
    "    def Likelihood(self, data, hypo):\n",
    "        _hypo = self.hypotheses[hypo]\n",
    "        bowl = _hypo[hypo]\n",
    "        vanilla, chocolate = bowl.check()\n",
    "        print vanilla, chocolate\n",
    "        bowl.eat(data)\n",
    "        return vanilla/(vanilla+chocolate) if data=='vanilla' else chocolate/(vanilla+chocolate)\n",
    "        \n",
    "sc = SuperCookie(['Bowl1','Bowl2'])\n",
    "sc.Update('vanilla')\n",
    "sc.Update('chocolate')\n",
    "sc.Update('vanilla')\n",
    "sc.PrintPredict()"
   ]
  },
  {
   "cell_type": "markdown",
   "metadata": {},
   "source": [
    "### 练习总结"
   ]
  },
  {
   "cell_type": "markdown",
   "metadata": {},
   "source": [
    "重点：对于每个假设，分别一组碗供其在每次拿取饼干后，做减法（如果公用会有干扰），原本的拿取的概率计算由固定值，变为每次通过当前碗中的饼干实时计算得到；"
   ]
  }
 ],
 "metadata": {
  "kernelspec": {
   "display_name": "Python 2",
   "language": "python",
   "name": "python2"
  },
  "language_info": {
   "codemirror_mode": {
    "name": "ipython",
    "version": 2
   },
   "file_extension": ".py",
   "mimetype": "text/x-python",
   "name": "python",
   "nbconvert_exporter": "python",
   "pygments_lexer": "ipython2",
   "version": "2.7.13"
  },
  "toc": {
   "base_numbering": 1,
   "nav_menu": {},
   "number_sections": true,
   "sideBar": true,
   "skip_h1_title": false,
   "title_cell": "Table of Contents",
   "title_sidebar": "Contents",
   "toc_cell": false,
   "toc_position": {},
   "toc_section_display": true,
   "toc_window_display": true
  }
 },
 "nbformat": 4,
 "nbformat_minor": 2
}
