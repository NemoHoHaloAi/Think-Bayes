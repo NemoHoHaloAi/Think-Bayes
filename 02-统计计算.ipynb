{
 "cells": [
  {
   "cell_type": "markdown",
   "metadata": {},
   "source": [
    "# 统计计算"
   ]
  },
  {
   "cell_type": "markdown",
   "metadata": {},
   "source": [
    "## 分布"
   ]
  },
  {
   "cell_type": "markdown",
   "metadata": {},
   "source": [
    "一组值及其对应的概率，例如骰子的1~6，及其对应的1/6（骰子质地均匀）；"
   ]
  },
  {
   "cell_type": "markdown",
   "metadata": {},
   "source": [
    "## 曲奇饼问题 - Pmf解决"
   ]
  },
  {
   "cell_type": "markdown",
   "metadata": {},
   "source": [
    "问题：有两个碗，碗1中有30个香草曲奇，10个巧克力曲奇，碗2中各有20个，问随便拿一个曲奇，从碗1取到香草的概率是多少？"
   ]
  },
  {
   "cell_type": "code",
   "execution_count": 15,
   "metadata": {},
   "outputs": [
    {
     "data": {
      "text/plain": [
       "0.6000000000000001"
      ]
     },
     "execution_count": 15,
     "metadata": {},
     "output_type": "execute_result"
    }
   ],
   "source": [
    "# 可能1：碗1，可能2：碗2\n",
    "from code.thinkbayes import Pmf\n",
    "pmf = Pmf() # 创建概率质量函数对象\n",
    "pmf.Set('Bowl 1',0.5) # 创建可能1，先验概率为0.5\n",
    "pmf.Set('Bowl 2',0.5) # 创建可能2，先验概率为0.5\n",
    "pmf.Mult('Bowl 1',0.75) # 可能1乘以似然度0.75\n",
    "pmf.Mult('Bowl 2',0.5) # 可能1乘以似然度0.5\n",
    "pmf.Normalize()\n",
    "pmf.Prob('Bowl 1')"
   ]
  },
  {
   "cell_type": "markdown",
   "metadata": {},
   "source": [
    "## M&M问题 - Pmf解决"
   ]
  },
  {
   "cell_type": "markdown",
   "metadata": {},
   "source": [
    "问题：有两袋M&M豆，94袋中30%褐色，20%黄色，20%红色，10%绿色，10%橙色，10%黄褐色，96袋中24%蓝色，20%绿色，16%橙色，14%黄色，13%红色，13%褐色，从两袋中各取一个豆，一个是黄色，一个是绿色，问黄色豆来自94年的袋子的概率是多少？"
   ]
  },
  {
   "cell_type": "code",
   "execution_count": 16,
   "metadata": {},
   "outputs": [
    {
     "data": {
      "text/plain": [
       "0.7407407407407408"
      ]
     },
     "execution_count": 16,
     "metadata": {},
     "output_type": "execute_result"
    }
   ],
   "source": [
    "# 可能1：黄色来自94，绿色来自96，可能2：黄色来自96，绿色来自94\n",
    "from code.thinkbayes import Pmf\n",
    "pmf = Pmf() # 创建概率质量函数对象\n",
    "pmf.Set('94,96',0.5) # 创建可能1，先验概率为0.5\n",
    "pmf.Set('96,94',0.5) # 创建可能2，先验概率为0.5\n",
    "pmf.Mult('94,96',0.2*0.2) # 可能1乘以似然度\n",
    "pmf.Mult('96,94',0.14*0.1) # 可能1乘以似然度\n",
    "pmf.Normalize()\n",
    "pmf.Prob('94,96')"
   ]
  },
  {
   "cell_type": "markdown",
   "metadata": {},
   "source": [
    "## Monty Hall问题 - Pmf解决"
   ]
  },
  {
   "cell_type": "markdown",
   "metadata": {},
   "source": [
    "蒙梯大厅问题：三扇门，其中一扇后有奖品，你随便挑选一扇，然后会展示剩下两扇中一扇没有奖品的门，然后你再做出选择，是保持原来的选择，还是从新选择另一扇没被打开的门；"
   ]
  },
  {
   "cell_type": "code",
   "execution_count": 17,
   "metadata": {},
   "outputs": [
    {
     "data": {
      "text/plain": [
       "0.6666666666666666"
      ]
     },
     "execution_count": 17,
     "metadata": {},
     "output_type": "execute_result"
    }
   ],
   "source": [
    "# 选手选A，Monty打开门B且奖品不在B\n",
    "# 可能1：奖品在A，可能2：奖品在B，可能3：奖品在C\n",
    "from code.thinkbayes import Pmf\n",
    "pmf = Pmf() # 创建概率质量函数对象\n",
    "pmf.Set('A',1./3) # 创建可能1，先验概率为1/3\n",
    "pmf.Set('B',1./3) # 创建可能2，先验概率为1/3\n",
    "pmf.Set('C',1./3) # 创建可能3，先验概率为1/3\n",
    "pmf.Mult('A',1./2) # 可能1乘以似然度\n",
    "pmf.Mult('B',0) # 可能1乘以似然度\n",
    "pmf.Mult('C',1) # 可能1乘以似然度\n",
    "pmf.Normalize()\n",
    "pmf.Prob('C') # 即选手改变自己的选择(由于B是被Monty打开的，因此选手只能改为C)的话选中概率"
   ]
  },
  {
   "cell_type": "markdown",
   "metadata": {},
   "source": [
    "## 贝叶斯框架 -- 曲奇饼问题"
   ]
  },
  {
   "cell_type": "markdown",
   "metadata": {},
   "source": [
    "该框架的好处：\n",
    "1. 很多问题可以改改就通用了，后面会看到；\n",
    "2. 能够推广到拿多个饼，各个口味的概率；"
   ]
  },
  {
   "cell_type": "markdown",
   "metadata": {},
   "source": [
    "### 构建Cookie类，基于Pmf类"
   ]
  },
  {
   "cell_type": "code",
   "execution_count": 18,
   "metadata": {},
   "outputs": [],
   "source": [
    "class Cookie(Pmf):\n",
    "    mixes = {\n",
    "        'Bowl 1':dict(vanilla=0.75, chocolate=0.25),\n",
    "        'Bowl 2':dict(vanilla=0.5, chocolate=0.5),\n",
    "    }\n",
    "    \n",
    "    def __init__(self, hypos):\n",
    "        '''\n",
    "        Cookie类构造函数\n",
    "        \n",
    "        Args:\n",
    "            hypos -- 全部假设\n",
    "        '''\n",
    "        Pmf.__init__(self)\n",
    "        for hypo in hypos:\n",
    "            self.Set(hypo, 1)\n",
    "        self.Normalize()\n",
    "        \n",
    "    def Likelihood(self, data, hypo):\n",
    "        '''\n",
    "        根据传入data（此处是口味）求似然度\n",
    "        \n",
    "        Args:\n",
    "            data -- 传入的信息，此处是口味\n",
    "            hypo -- 某一种假设\n",
    "            \n",
    "        Returns:\n",
    "            like -- 更新后的概率\n",
    "        '''\n",
    "        mix = self.mixes[hypo]\n",
    "        like = mix[data]\n",
    "        return like\n",
    "        \n",
    "    def Update(self, data):\n",
    "        '''\n",
    "        修正相应假设的概率\n",
    "        \n",
    "        Args:\n",
    "            data -- 用于修正响应假设概率的信息，此处就是饼干口味\n",
    "        '''\n",
    "        for hypo in self.Values():\n",
    "            like = self.Likelihood(data, hypo)\n",
    "            self.Mult(hypo, like)\n",
    "        self.Normalize()\n",
    "        \n",
    "    def PrintPredict(self):\n",
    "        '''\n",
    "        打印各个假设及其对应的概率\n",
    "        '''\n",
    "        for hypo, prob in self.Items():\n",
    "            print hypo + ':' + str(prob)\n",
    "        "
   ]
  },
  {
   "cell_type": "markdown",
   "metadata": {},
   "source": [
    "### 测试Cookie类"
   ]
  },
  {
   "cell_type": "markdown",
   "metadata": {},
   "source": [
    "#### 原始概率 -- 即先验概率，构造中定义了都是1"
   ]
  },
  {
   "cell_type": "code",
   "execution_count": 19,
   "metadata": {},
   "outputs": [
    {
     "name": "stdout",
     "output_type": "stream",
     "text": [
      "Bowl 2:0.5\n",
      "Bowl 1:0.5\n"
     ]
    }
   ],
   "source": [
    "cookie = Cookie(['Bowl 1', 'Bowl 2'])\n",
    "cookie.PrintPredict()"
   ]
  },
  {
   "cell_type": "markdown",
   "metadata": {},
   "source": [
    "#### 更新一个香草信息"
   ]
  },
  {
   "cell_type": "code",
   "execution_count": 20,
   "metadata": {},
   "outputs": [
    {
     "name": "stdout",
     "output_type": "stream",
     "text": [
      "Bowl 2:0.4\n",
      "Bowl 1:0.6\n"
     ]
    }
   ],
   "source": [
    "cookie.Update('vanilla')\n",
    "cookie.PrintPredict()"
   ]
  },
  {
   "cell_type": "markdown",
   "metadata": {},
   "source": [
    "#### 更新一个巧克力"
   ]
  },
  {
   "cell_type": "code",
   "execution_count": 21,
   "metadata": {},
   "outputs": [
    {
     "name": "stdout",
     "output_type": "stream",
     "text": [
      "Bowl 2:0.571428571429\n",
      "Bowl 1:0.428571428571\n"
     ]
    }
   ],
   "source": [
    "cookie.Update('chocolate')\n",
    "cookie.PrintPredict()"
   ]
  },
  {
   "cell_type": "markdown",
   "metadata": {},
   "source": [
    "## 贝叶斯框架 -- Monty Hall问题"
   ]
  },
  {
   "cell_type": "markdown",
   "metadata": {},
   "source": [
    "### 构建MontyHall类，继承自Pmf类"
   ]
  },
  {
   "cell_type": "code",
   "execution_count": 53,
   "metadata": {},
   "outputs": [],
   "source": [
    "class MontyHall(Pmf):\n",
    "    '''\n",
    "    假设用户最开始选的是门A\n",
    "    '''\n",
    "    \n",
    "    choose = 'A'\n",
    "    \n",
    "    def __init__(self, hypos):\n",
    "        '''\n",
    "        MontyHall类构造函数\n",
    "        \n",
    "        Args:\n",
    "            hypos -- 全部假设\n",
    "        '''\n",
    "        Pmf.__init__(self)\n",
    "        for hypo in hypos:\n",
    "            self.Set(hypo, 1)\n",
    "        self.Normalize()\n",
    "        \n",
    "    def Likelihood(self, data, hypo):\n",
    "        '''\n",
    "        根据传入data（此处是主持人去掉某个门）求似然度\n",
    "        \n",
    "        Args:\n",
    "            data -- 传入的信息，此处是去掉的某扇门\n",
    "            hypo -- 某一种假设\n",
    "            \n",
    "        Returns:\n",
    "            like -- 更新后的概率\n",
    "        '''\n",
    "        return 0 if data == hypo else (0.5 if hypo == self.choose else 1)\n",
    "        \n",
    "    def Update(self, data):\n",
    "        '''\n",
    "        修正相应假设的概率，这个方法是叠加的\n",
    "        \n",
    "        Args:\n",
    "            data -- 用于修正响应假设概率的信息，此处就是某扇门\n",
    "        '''\n",
    "        for hypo in self.Values():\n",
    "            like = self.Likelihood(data, hypo)\n",
    "            self.Mult(hypo, like)\n",
    "        self.Normalize()\n",
    "        \n",
    "    def PrintPredict(self):\n",
    "        '''\n",
    "        打印各个假设及其对应的概率\n",
    "        '''\n",
    "        for hypo, prob in self.Items():\n",
    "            print hypo + ':' + str(prob)\n",
    "        "
   ]
  },
  {
   "cell_type": "markdown",
   "metadata": {},
   "source": [
    "### 测试MontyHall类"
   ]
  },
  {
   "cell_type": "markdown",
   "metadata": {},
   "source": [
    "#### 原始概率"
   ]
  },
  {
   "cell_type": "code",
   "execution_count": 51,
   "metadata": {},
   "outputs": [
    {
     "name": "stdout",
     "output_type": "stream",
     "text": [
      "A:0.333333333333\n",
      "C:0.333333333333\n",
      "B:0.333333333333\n"
     ]
    }
   ],
   "source": [
    "montyhall = MontyHall(['A', 'B', 'C'])\n",
    "montyhall.PrintPredict()"
   ]
  },
  {
   "cell_type": "markdown",
   "metadata": {},
   "source": [
    "#### 加入主持人信息"
   ]
  },
  {
   "cell_type": "code",
   "execution_count": 47,
   "metadata": {},
   "outputs": [
    {
     "name": "stdout",
     "output_type": "stream",
     "text": [
      "A:0.333333333333\n",
      "C:0.666666666667\n",
      "B:0.0\n"
     ]
    }
   ],
   "source": [
    "montyhall.Update('B')\n",
    "montyhall.PrintPredict()"
   ]
  },
  {
   "cell_type": "code",
   "execution_count": 52,
   "metadata": {},
   "outputs": [
    {
     "name": "stdout",
     "output_type": "stream",
     "text": [
      "A:0.333333333333\n",
      "C:0.0\n",
      "B:0.666666666667\n"
     ]
    }
   ],
   "source": [
    "montyhall.Update('C')\n",
    "montyhall.PrintPredict()"
   ]
  },
  {
   "cell_type": "markdown",
   "metadata": {},
   "source": [
    "## 框架抽象封装"
   ]
  },
  {
   "cell_type": "markdown",
   "metadata": {},
   "source": [
    "### Suite框架抽象 -- 只需实现Likelihood方法即可使用"
   ]
  },
  {
   "cell_type": "code",
   "execution_count": 65,
   "metadata": {},
   "outputs": [],
   "source": [
    "from abc import ABCMeta, abstractmethod\n",
    "class Suite(Pmf): # 抽象类\n",
    "    \n",
    "    __metaclass__ = ABCMeta\n",
    "    \n",
    "    def __init__(self, hypos):\n",
    "        '''\n",
    "        构造函数\n",
    "        \n",
    "        Args:\n",
    "            hypos -- 全部假设\n",
    "        '''\n",
    "        Pmf.__init__(self)\n",
    "        for hypo in hypos:\n",
    "            self.Set(hypo, 1)\n",
    "        self.Normalize()\n",
    "    \n",
    "    @abstractmethod  ##抽象方法\n",
    "    def Likelihood(self, data, hypo):\n",
    "        '''\n",
    "        根据传入data求似然度\n",
    "        \n",
    "        Args:\n",
    "            data -- 传入的信息\n",
    "            hypo -- 某一种假设\n",
    "            \n",
    "        Returns:\n",
    "            like -- 更新后的概率\n",
    "        '''\n",
    "        \n",
    "    def Update(self, data):\n",
    "        '''\n",
    "        修正相应假设的概率，这个方法是叠加的\n",
    "        \n",
    "        Args:\n",
    "            data -- 用于修正响应假设概率的信息\n",
    "        '''\n",
    "        for hypo in self.Values():\n",
    "            like = self.Likelihood(data, hypo)\n",
    "            self.Mult(hypo, like)\n",
    "        self.Normalize()\n",
    "        \n",
    "    def PrintPredict(self):\n",
    "        '''\n",
    "        打印各个假设及其对应的概率\n",
    "        '''\n",
    "        for hypo, prob in self.Items():\n",
    "            print hypo + ':' + str(prob)\n",
    "        "
   ]
  },
  {
   "cell_type": "markdown",
   "metadata": {},
   "source": [
    "### Monty问题在Suite框架中使用"
   ]
  },
  {
   "cell_type": "code",
   "execution_count": 66,
   "metadata": {},
   "outputs": [
    {
     "name": "stdout",
     "output_type": "stream",
     "text": [
      "A:0.333333333333\n",
      "C:0.666666666667\n",
      "B:0.0\n"
     ]
    }
   ],
   "source": [
    "class Monty(Suite):\n",
    "    def Likelihood(self, data, hypo):\n",
    "        return 0 if data == hypo else (0.5 if hypo == 'A' else 1)\n",
    "\n",
    "monty = Monty('ABC')\n",
    "monty.Update('B')\n",
    "monty.PrintPredict()"
   ]
  },
  {
   "cell_type": "markdown",
   "metadata": {},
   "source": [
    "### M&M豆问题在Suite框架中使用"
   ]
  },
  {
   "cell_type": "markdown",
   "metadata": {},
   "source": [
    "#### 自己实现"
   ]
  },
  {
   "cell_type": "code",
   "execution_count": 72,
   "metadata": {},
   "outputs": [
    {
     "name": "stdout",
     "output_type": "stream",
     "text": [
      "['94', '96', '94']\n",
      "['96', '94', '96']\n",
      "94,96,94:0.641025641026\n",
      "96,94,96:0.358974358974\n"
     ]
    }
   ],
   "source": [
    "class M_M(Suite):\n",
    "    '''\n",
    "    94袋中30%褐色，20%黄色，20%红色，10%绿色，10%橙色，10%黄褐色\n",
    "    96袋中24%蓝色，20%绿色，16%橙色，14%黄色，13%红色，13%褐色\n",
    "    从两袋中各取一个豆，一个是黄色，一个是绿色，问黄色豆来自94年的袋子的概率是多少？\n",
    "    '''\n",
    "    \n",
    "    mixes = {\n",
    "        '94':dict(hese=0.3,huangse=0.2,hongse=0.2,lvse=0.1,chengse=0.1,huanghese=0.1),\n",
    "        '96':dict(hese=0.13,huangse=0.14,hongse=0.13,lvse=0.2,chengse=0.16,lanse=0.24),\n",
    "    }\n",
    "    \n",
    "    def Likelihood(self, data, hypo):\n",
    "        bags = hypo.split(',')\n",
    "        print bags\n",
    "        like = 1\n",
    "        for i in range(len(data)):\n",
    "            like *= self.mixes[bags[i]][data[i]]\n",
    "        return like\n",
    "\n",
    "m_m = M_M(['94,96,94','96,94,96'])\n",
    "m_m.Update(['huangse', 'lvse', 'chengse'])\n",
    "m_m.PrintPredict()"
   ]
  },
  {
   "cell_type": "markdown",
   "metadata": {},
   "source": [
    "#### 书上实现"
   ]
  },
  {
   "cell_type": "code",
   "execution_count": 75,
   "metadata": {},
   "outputs": [
    {
     "name": "stdout",
     "output_type": "stream",
     "text": [
      "A:0.740740740741\n",
      "B:0.259259259259\n"
     ]
    }
   ],
   "source": [
    "class M_M_B(Suite):\n",
    "    mix94 = dict(hese=0.3,huangse=0.2,hongse=0.2,lvse=0.1,chengse=0.1,huanghese=0.1)\n",
    "    mix96 = dict(hese=0.13,huangse=0.14,hongse=0.13,lvse=0.2,chengse=0.16,lanse=0.24)\n",
    "    \n",
    "    hypo1 = dict(bag1=mix94, bag2=mix96)\n",
    "    hypo2 = dict(bag1=mix96, bag2=mix94)\n",
    "    \n",
    "    hypotheses = dict(A=hypo1, B=hypo2)\n",
    "    \n",
    "    def Likelihood(self, data, hypo):\n",
    "        bag, color = data\n",
    "        return self.hypotheses[hypo][bag][color]\n",
    "        \n",
    "m_m_b = M_M_B('AB')\n",
    "m_m_b.Update(('bag1', 'huangse'))\n",
    "m_m_b.Update(('bag2', 'lvse'))\n",
    "m_m_b.PrintPredict()"
   ]
  },
  {
   "cell_type": "markdown",
   "metadata": {},
   "source": [
    "PS：跟书本上的处理方法不太一致：\n",
    "* 书本上：\n",
    "    * 假设是A，B，也就是黄色豆来自94，或者95；\n",
    "    * Update每次接受一组信息，包括第几次拿，以及颜色，比如('bag1', 'yellow')，表示第一次拿的黄色豆；\n",
    "* 自己实现：\n",
    "    * 假设是\"94,96\"和\"96,94\"；\n",
    "    * Update是对应假设的一个集合，此处长度必须为2，对应\"xx,yy\"，['yellow','green']表示第一次拿黄色的，第二次是绿色；\n",
    "    \n",
    "区别：\n",
    "* 书本上的实现方式允许无数次的迭代下去，可以拓展至任意次数的取豆子，并计算概率，自己实现的这个目前只支持与假设时放入的数量一致的信息个数，比如假设了\"94,94\"，那么Update只能提供[xx,yy]这种格式，否则报错\n",
    "* 如果想要增加假设数量（比如拿了三次的话），书本上的虽然Update更简单，但是需要改动代码（因为它假设是写死在代码中的），而自己的写法是可以通过构造函数来修改的；\n",
    "\n",
    "总体看自己实现的这个调用复杂，但是支持更多情况（比如想计算取3次，分别为黄色，绿色，橙色时的概率），而书本上的调用简单清晰，但是如果要支持取3次，且增加假设个数的话就需要修改类代码；"
   ]
  },
  {
   "cell_type": "markdown",
   "metadata": {},
   "source": [
    "## 练习 -- 曲奇饼加强版"
   ]
  },
  {
   "cell_type": "markdown",
   "metadata": {},
   "source": [
    "问题：有两个碗，碗1中有30个香草曲奇，10个巧克力曲奇，碗2中各有20个，问随便拿一个曲奇，从碗1取到香草的概率是多少？\n",
    "\n",
    "增加：吃掉了取出的饼干，那么似然度就依赖于之前的取曲奇饼的行为；"
   ]
  },
  {
   "cell_type": "markdown",
   "metadata": {},
   "source": [
    "### 普通曲奇饼问题Suite解决"
   ]
  },
  {
   "cell_type": "code",
   "execution_count": 81,
   "metadata": {},
   "outputs": [
    {
     "name": "stdout",
     "output_type": "stream",
     "text": [
      "Bowl1:0.529411764706\n",
      "Bowl2:0.470588235294\n"
     ]
    }
   ],
   "source": [
    "class Cookie(Suite):\n",
    "    mixes={\n",
    "        'Bowl1':dict(vanilla=0.75, chocolate=0.25),\n",
    "        'Bowl2':dict(vanilla=0.5, chocolate=0.5),\n",
    "    }\n",
    "    \n",
    "    def Likelihood(self, data, hypo):\n",
    "        return self.mixes[hypo][data]\n",
    "        \n",
    "cookie = Cookie(['Bowl1','Bowl2'])\n",
    "cookie.Update('vanilla')\n",
    "cookie.Update('chocolate')\n",
    "cookie.Update('vanilla')\n",
    "cookie.PrintPredict()"
   ]
  },
  {
   "cell_type": "markdown",
   "metadata": {},
   "source": [
    "### 超级曲奇饼问题Suite解决 -- 拿出去的饼不放回"
   ]
  },
  {
   "cell_type": "code",
   "execution_count": 93,
   "metadata": {},
   "outputs": [
    {
     "name": "stdout",
     "output_type": "stream",
     "text": [
      "30.0 10.0\n",
      "20.0 20.0\n",
      "29.0 10.0\n",
      "19.0 20.0\n",
      "29.0 9.0\n",
      "19.0 19.0\n",
      "Bowl1:0.533742331288\n",
      "Bowl2:0.466257668712\n"
     ]
    }
   ],
   "source": [
    "class SuperCookie(Suite):\n",
    "    class Bowl:\n",
    "        def __init__(self, vanilla=20, chocolate=20):\n",
    "            self.vanilla=vanilla*1.\n",
    "            self.chocolate=chocolate*1.\n",
    "\n",
    "        def eat(self, cookie_name):\n",
    "            if 'vanilla' == cookie_name:\n",
    "                self.vanilla -= 1\n",
    "            elif 'chocolate' == cookie_name:\n",
    "                self.chocolate -= 1\n",
    "\n",
    "        def check(self):\n",
    "            return self.vanilla, self.chocolate\n",
    "    \n",
    "    hypo1 = dict(Bowl1=Bowl(30,10),Bowl2=Bowl(20,20))\n",
    "    hypo2 = dict(Bowl1=Bowl(30,10),Bowl2=Bowl(20,20))\n",
    "    hypotheses = dict(Bowl1=hypo1, Bowl2=hypo2)\n",
    "    \n",
    "    def Likelihood(self, data, hypo):\n",
    "        _hypo = self.hypotheses[hypo]\n",
    "        bowl = _hypo[hypo]\n",
    "        vanilla, chocolate = bowl.check()\n",
    "        print vanilla, chocolate\n",
    "        bowl.eat(data)\n",
    "        return vanilla/(vanilla+chocolate) if data=='vanilla' else chocolate/(vanilla+chocolate)\n",
    "        \n",
    "sc = SuperCookie(['Bowl1','Bowl2'])\n",
    "sc.Update('vanilla')\n",
    "sc.Update('chocolate')\n",
    "sc.Update('vanilla')\n",
    "sc.PrintPredict()"
   ]
  },
  {
   "cell_type": "markdown",
   "metadata": {},
   "source": [
    "### 练习总结"
   ]
  },
  {
   "cell_type": "markdown",
   "metadata": {},
   "source": [
    "重点：对于每个假设，分别一组碗供其在每次拿取饼干后，做减法（如果公用会有干扰），原本的拿取的概率计算由固定值，变为每次通过当前碗中的饼干实时计算得到；"
   ]
  }
 ],
 "metadata": {
  "kernelspec": {
   "display_name": "Python 2",
   "language": "python",
   "name": "python2"
  },
  "language_info": {
   "codemirror_mode": {
    "name": "ipython",
    "version": 2
   },
   "file_extension": ".py",
   "mimetype": "text/x-python",
   "name": "python",
   "nbconvert_exporter": "python",
   "pygments_lexer": "ipython2",
   "version": "2.7.13"
  },
  "toc": {
   "nav_menu": {},
   "number_sections": true,
   "sideBar": true,
   "skip_h1_title": false,
   "title_cell": "Table of Contents",
   "title_sidebar": "Contents",
   "toc_cell": false,
   "toc_position": {},
   "toc_section_display": true,
   "toc_window_display": true
  }
 },
 "nbformat": 4,
 "nbformat_minor": 2
}
