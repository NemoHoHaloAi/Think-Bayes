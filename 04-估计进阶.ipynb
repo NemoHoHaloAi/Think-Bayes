{
 "cells": [
  {
   "cell_type": "markdown",
   "metadata": {},
   "source": [
    "# 估计进阶"
   ]
  },
  {
   "cell_type": "code",
   "execution_count": 33,
   "metadata": {},
   "outputs": [],
   "source": [
    "import matplotlib.pyplot as plt\n",
    "\n",
    "import code.thinkbayes as thinkbayes\n",
    "\n",
    "%matplotlib inline"
   ]
  },
  {
   "cell_type": "markdown",
   "metadata": {},
   "source": [
    "## 把上一章做的Suite拿过来"
   ]
  },
  {
   "cell_type": "code",
   "execution_count": 2,
   "metadata": {},
   "outputs": [],
   "source": [
    "from code.thinkbayes import Pmf\n",
    "from abc import ABCMeta, abstractmethod\n",
    "class Suite(Pmf): # 抽象类\n",
    "    \n",
    "    __metaclass__ = ABCMeta\n",
    "    \n",
    "    def __init__(self, hypos):\n",
    "        '''\n",
    "        构造函数\n",
    "        \n",
    "        Args:\n",
    "            hypos -- 全部假设\n",
    "        '''\n",
    "        Pmf.__init__(self)\n",
    "        for hypo in hypos:\n",
    "            self.Set(hypo, 1)\n",
    "        self.Normalize()\n",
    "    \n",
    "    @abstractmethod  ##抽象方法\n",
    "    def Likelihood(self, data, hypo):\n",
    "        '''\n",
    "        根据传入data求似然度\n",
    "        \n",
    "        Args:\n",
    "            data -- 传入的信息\n",
    "            hypo -- 某一种假设\n",
    "            \n",
    "        Returns:\n",
    "            like -- 更新后的概率\n",
    "        '''\n",
    "        \n",
    "    def Update(self, data):\n",
    "        '''\n",
    "        修正相应假设的概率，这个方法是叠加的\n",
    "        \n",
    "        Args:\n",
    "            data -- 用于修正响应假设概率的信息\n",
    "        '''\n",
    "        for hypo in self.Values():\n",
    "            like = self.Likelihood(data, hypo)\n",
    "            self.Mult(hypo, like)\n",
    "        self.Normalize()\n",
    "        \n",
    "    def PrintPredict(self):\n",
    "        '''\n",
    "        打印各个假设及其对应的概率\n",
    "        '''\n",
    "        for hypo, prob in self.Items():\n",
    "            print str(hypo) + ':' + str(prob)"
   ]
  },
  {
   "cell_type": "markdown",
   "metadata": {},
   "source": [
    "## 欧元问题"
   ]
  },
  {
   "cell_type": "markdown",
   "metadata": {},
   "source": [
    "投掷一枚硬币250次，其中有140次正面，110次反面，这个结果是否对“硬币偏心且不均匀”提供了支持？"
   ]
  },
  {
   "cell_type": "code",
   "execution_count": 43,
   "metadata": {},
   "outputs": [],
   "source": [
    "class Euro(Suite):\n",
    "    def Likelihood(self, data, hypo):\n",
    "        if data == 'H':\n",
    "            return hypo / 100.\n",
    "        else:\n",
    "            return 1- hypo / 100.\n",
    "        \n",
    "    def MaxLikelihood(self):\n",
    "        # 遍历假设-like映射数组，比较的是like，返回的是假设\n",
    "        return max([(item[1], item[0]) for item in self.Items()])[1]\n",
    "        \n",
    "    def Draw(self):\n",
    "        X = []\n",
    "        y = []\n",
    "        for item in self.Items():\n",
    "            X.append(item[0])\n",
    "            y.append(item[1])\n",
    "        plt.plot(X, y)"
   ]
  },
  {
   "cell_type": "code",
   "execution_count": 44,
   "metadata": {},
   "outputs": [
    {
     "data": {
      "image/png": "[encoded data removed]",
      "text/plain": [
       "<matplotlib.figure.Figure at 0x7fee7f34e9d0>"
      ]
     },
     "metadata": {},
     "output_type": "display_data"
    }
   ],
   "source": [
    "euro = Euro(range(0,101))\n",
    "datas = 'H'*140 + 'T'*110\n",
    "for data in datas:\n",
    "    euro.Update(data)\n",
    "\n",
    "euro.Draw()"
   ]
  },
  {
   "cell_type": "markdown",
   "metadata": {},
   "source": [
    "### 平均值"
   ]
  },
  {
   "cell_type": "code",
   "execution_count": 45,
   "metadata": {},
   "outputs": [
    {
     "data": {
      "text/plain": [
       "55.952380952380956"
      ]
     },
     "execution_count": 45,
     "metadata": {},
     "output_type": "execute_result"
    }
   ],
   "source": [
    "euro.Mean()"
   ]
  },
  {
   "cell_type": "markdown",
   "metadata": {},
   "source": [
    "### 最大值"
   ]
  },
  {
   "cell_type": "code",
   "execution_count": 42,
   "metadata": {},
   "outputs": [
    {
     "data": {
      "text/plain": [
       "56"
      ]
     },
     "execution_count": 42,
     "metadata": {},
     "output_type": "execute_result"
    }
   ],
   "source": [
    "euro.MaxLikelihood()"
   ]
  },
  {
   "cell_type": "markdown",
   "metadata": {},
   "source": [
    "### 置信区间"
   ]
  },
  {
   "cell_type": "code",
   "execution_count": 46,
   "metadata": {},
   "outputs": [
    {
     "data": {
      "text/plain": [
       "(51, 61)"
      ]
     },
     "execution_count": 46,
     "metadata": {},
     "output_type": "execute_result"
    }
   ],
   "source": [
    "thinkbayes.CredibleInterval(euro, 90)"
   ]
  },
  {
   "cell_type": "markdown",
   "metadata": {},
   "source": [
    "### 50的概率"
   ]
  },
  {
   "cell_type": "code",
   "execution_count": 47,
   "metadata": {},
   "outputs": [
    {
     "data": {
      "text/plain": [
       "0.02097652612954468"
      ]
     },
     "execution_count": 47,
     "metadata": {},
     "output_type": "execute_result"
    }
   ],
   "source": [
    "euro.Prob(50)"
   ]
  },
  {
   "cell_type": "markdown",
   "metadata": {},
   "source": [
    "### 小结"
   ]
  },
  {
   "cell_type": "markdown",
   "metadata": {},
   "source": [
    "首先概率为50的假设不在90的置信区间内，且50的假设对应的概率仅为0.02，目前数据起码能证明硬币有问题；"
   ]
  },
  {
   "cell_type": "markdown",
   "metadata": {},
   "source": [
    "## 先验概率的湮没"
   ]
  },
  {
   "cell_type": "markdown",
   "metadata": {},
   "source": [
    "上述问题中，我们的先验概率分布是均等的，这个似乎有问题，因为即便硬币有问题，那么得到的x虽然会偏离50%，但是应该也不会到10%或者90%，也就是说对于各个假设来说，他们的先验概率应该不是一样的，而是成三角形的，如下："
   ]
  },
  {
   "cell_type": "code",
   "execution_count": 48,
   "metadata": {},
   "outputs": [
    {
     "data": {
      "text/plain": [
       "[<matplotlib.lines.Line2D at 0x7fee7ee80590>]"
      ]
     },
     "execution_count": 48,
     "metadata": {},
     "output_type": "execute_result"
    },
    {
     "data": {
      "image/png": "[encoded data removed]",
      "text/plain": [
       "<matplotlib.figure.Figure at 0x7fee7ee1f5d0>"
      ]
     },
     "metadata": {},
     "output_type": "display_data"
    }
   ],
   "source": [
    "X = range(0,101)\n",
    "y = [x if x<=50 else 100-x for x in X]\n",
    "plt.plot(X, y)"
   ]
  },
  {
   "cell_type": "markdown",
   "metadata": {},
   "source": [
    "### 优化欧元问题的先验概率"
   ]
  },
  {
   "cell_type": "code",
   "execution_count": 49,
   "metadata": {},
   "outputs": [],
   "source": [
    "class SuperEuro(Euro):\n",
    "    def __init__(self, hypos):\n",
    "        Pmf.__init__(self)\n",
    "        for hypo in hypos:\n",
    "            self.Set(hypo, hypo if hypo <= 50 else 100-hypo)\n",
    "        self.Normalize()"
   ]
  },
  {
   "cell_type": "markdown",
   "metadata": {},
   "source": [
    "### 优化后的分布图"
   ]
  },
  {
   "cell_type": "code",
   "execution_count": 50,
   "metadata": {},
   "outputs": [
    {
     "data": {
      "image/png": "[encoded data removed]",
      "text/plain": [
       "<matplotlib.figure.Figure at 0x7fee7ed591d0>"
      ]
     },
     "metadata": {},
     "output_type": "display_data"
    }
   ],
   "source": [
    "euro = SuperEuro(range(0,101))\n",
    "datas = 'H'*140 + 'T'*110\n",
    "for data in datas:\n",
    "    euro.Update(data)\n",
    "\n",
    "euro.Draw()"
   ]
  },
  {
   "cell_type": "markdown",
   "metadata": {},
   "source": [
    "### 优化后的平均值"
   ]
  },
  {
   "cell_type": "code",
   "execution_count": 52,
   "metadata": {},
   "outputs": [
    {
     "data": {
      "text/plain": [
       "55.74349943859506"
      ]
     },
     "execution_count": 52,
     "metadata": {},
     "output_type": "execute_result"
    }
   ],
   "source": [
    "euro.Mean()"
   ]
  },
  {
   "cell_type": "markdown",
   "metadata": {},
   "source": [
    "### 优化后的最大值"
   ]
  },
  {
   "cell_type": "code",
   "execution_count": 53,
   "metadata": {},
   "outputs": [
    {
     "data": {
      "text/plain": [
       "56"
      ]
     },
     "execution_count": 53,
     "metadata": {},
     "output_type": "execute_result"
    }
   ],
   "source": [
    "euro.MaxLikelihood()"
   ]
  },
  {
   "cell_type": "markdown",
   "metadata": {},
   "source": [
    "### 优化后的置信区间"
   ]
  },
  {
   "cell_type": "code",
   "execution_count": 54,
   "metadata": {},
   "outputs": [
    {
     "data": {
      "text/plain": [
       "(51, 61)"
      ]
     },
     "execution_count": 54,
     "metadata": {},
     "output_type": "execute_result"
    }
   ],
   "source": [
    "thinkbayes.CredibleInterval(euro, 90)"
   ]
  },
  {
   "cell_type": "markdown",
   "metadata": {},
   "source": [
    "### 先验湮没小结"
   ]
  },
  {
   "cell_type": "markdown",
   "metadata": {},
   "source": [
    "能够看到，虽然先验概率差别很大，但是由于后期数据量充足，导致后验概率收敛，因此此处的先验概率对后验概率影响很小其实；"
   ]
  },
  {
   "cell_type": "markdown",
   "metadata": {},
   "source": [
    "## 讨论"
   ]
  },
  {
   "cell_type": "markdown",
   "metadata": {},
   "source": [
    "1. 客观性：即使两人有着不同的先验信仰，随着数据的增多，后验分布也会收敛，而分布之间的差异可以小到忽略不计；\n",
    "2. 基于模型决策：但是首先贝叶斯是基于模型决策的，如果使用不同的模型，那么就无法得到相同的似然度，后验概率也就不可能收敛；\n",
    "3. 克伦威尔法则：所有假设，即便你认为可能性为0的假设也不要设置为0，否则再多的数据也无法撼动它为0的概率；"
   ]
  },
  {
   "cell_type": "markdown",
   "metadata": {},
   "source": [
    "## 练习"
   ]
  },
  {
   "cell_type": "markdown",
   "metadata": {},
   "source": [
    "### 练习-1"
   ]
  },
  {
   "cell_type": "markdown",
   "metadata": {},
   "source": [
    "假设不是直接观察抛掷硬币，而是使用一个不总是正确的工具来测量结果，具体的说，假设有一个概率为y将实际为正，但是报告为反，编写一个类来估计这样一系列给定了结果的硬币的偏置量和值y，后验分布的范围是怎样依赖于y的？"
   ]
  },
  {
   "cell_type": "markdown",
   "metadata": {},
   "source": [
    "### 练习-2"
   ]
  },
  {
   "cell_type": "markdown",
   "metadata": {},
   "source": [
    "设计一个系统，当redditor投票后，根据redditor的可信度估计并且更新链接2的质量，而该redditor的可信度估计会依据这一链接的质量被更新。一种方法是将链接的质量以赢得upvote的概率建模，redditor的可信度以对高品质条目给出正确的upvote的概率建模，编写一个类来定义redditor和链接，只要redditor投了票，update函数对这两个对象进行更新；"
   ]
  }
 ],
 "metadata": {
  "kernelspec": {
   "display_name": "Python 2",
   "language": "python",
   "name": "python2"
  },
  "language_info": {
   "codemirror_mode": {
    "name": "ipython",
    "version": 2
   },
   "file_extension": ".py",
   "mimetype": "text/x-python",
   "name": "python",
   "nbconvert_exporter": "python",
   "pygments_lexer": "ipython2",
   "version": "2.7.13"
  },
  "toc": {
   "nav_menu": {},
   "number_sections": true,
   "sideBar": true,
   "skip_h1_title": false,
   "title_cell": "Table of Contents",
   "title_sidebar": "Contents",
   "toc_cell": false,
   "toc_position": {},
   "toc_section_display": true,
   "toc_window_display": true
  }
 },
 "nbformat": 4,
 "nbformat_minor": 2
}
